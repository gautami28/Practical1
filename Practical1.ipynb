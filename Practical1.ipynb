{
  "nbformat": 4,
  "nbformat_minor": 0,
  "metadata": {
    "colab": {
      "name": "Practical1.ipynb",
      "provenance": [],
      "collapsed_sections": [],
      "authorship_tag": "ABX9TyO9ADt21NtgaLgA8uO0qhbG",
      "include_colab_link": true
    },
    "kernelspec": {
      "name": "python3",
      "display_name": "Python 3"
    },
    "language_info": {
      "name": "python"
    },
    "accelerator": "GPU"
  },
  "cells": [
    {
      "cell_type": "markdown",
      "metadata": {
        "id": "view-in-github",
        "colab_type": "text"
      },
      "source": [
        "<a href=\"https://colab.research.google.com/github/gautami28/Practical1/blob/main/Practical1.ipynb\" target=\"_parent\"><img src=\"https://colab.research.google.com/assets/colab-badge.svg\" alt=\"Open In Colab\"/></a>"
      ]
    },
    {
      "cell_type": "code",
      "metadata": {
        "id": "zOFOAPsE5Tn3",
        "colab": {
          "base_uri": "https://localhost:8080/"
        },
        "outputId": "398684e2-5527-4ec9-9852-f36cec5e23fd"
      },
      "source": [
        "number = int(input(\"enter number of students: \"));\n",
        "list1=[]\n",
        "for i in range(number):\n",
        "  marks=int(input(f\"enter marks of {i} students\"))\n",
        "  list1.append(marks)\n",
        "def main():\n",
        "  print(\"1.Display the marks \")\n",
        "  print(\"2.Find the Sum and Average of the marks \")\n",
        "  print(\"3.Find the maximum marks \")\n",
        "  print(\"4.Find the minimum marks \")\n",
        "  print(\"5.Find the highest frequency of reapeated marks \")\n",
        "  print(\"6.Find the number of absent students \")\n",
        "  print(\"7.Exit\")\n",
        "  while True:\n",
        "    ch = int(input(\"Enter a choice for operation:\"))\n",
        "    if ch==1:\n",
        "      display()\n",
        "    if ch==2:\n",
        "      total_avg()\n",
        "    elif ch==3:\n",
        "      maximum_marks()\n",
        "    elif ch==4:\n",
        "      minimum_marks()\n",
        "    elif ch==5:\n",
        "      highest_freq()\n",
        "    elif ch==6:\n",
        "      absent()\n",
        "    if ch==7:\n",
        "      break\n",
        "def display():\n",
        "  print(f\"The List contains these marks: {list1}\")\n",
        "\n",
        "def total_avg():\n",
        "  sum=0;\n",
        "  count=0\n",
        "  count=len(list1)\n",
        "  for i in range(len(list1)):\n",
        "    sum+=list1[i]\n",
        "  avg= sum/count\n",
        "  print(f\"sum of marks are:{sum}\")\n",
        "  print(f\"avg of marks are:{avg}\")\n",
        "\n",
        "def max_min(): \n",
        "  max = list1[0]\n",
        "  for i in range(len(list1)):\n",
        "    if(max<list1[i]):\n",
        "      max = list1[i]\n",
        "  print(f\"maximum marks are: {max}\")\n",
        "\n",
        "def highest_freq():\n",
        "  counter=0\n",
        "  result=list1[0]\n",
        "  for i in list1:\n",
        "    frequency=list1.count(i)\n",
        "    if frequency>counter:\n",
        "      counter = frequency\n",
        "      result = i\n",
        "  print(f\"frequent marks :\",result)\n",
        "\n",
        "def minimum_marks():\n",
        "  for i in range(len(list1)):\n",
        "    if(list1[i]!=-1):\n",
        "      min = list1[i]\n",
        "      break\n",
        "    for j in range(len(list1)):\n",
        "      if (list1[j]!=-1):\n",
        "        if (min>list1[j]):\n",
        "          min = list1[j]\n",
        "  print(f\"minimum marks are:{min}\")\n",
        "\n",
        "def absent():\n",
        "  count=0\n",
        "  for i in range(len(list1)):\n",
        "    if(list1[i]==-1):\n",
        "      count=count+1\n",
        "  print(f\"Absent students count is: {count}\")\n",
        "\n",
        "if __name__==\"__main__\":\n",
        "  main()\n"
      ],
      "execution_count": 24,
      "outputs": [
        {
          "name": "stdout",
          "output_type": "stream",
          "text": [
            "enter number of students: 10\n",
            "enter marks of 0 students55\n",
            "enter marks of 1 students96\n",
            "enter marks of 2 students55\n",
            "enter marks of 3 students-1\n",
            "enter marks of 4 students55\n",
            "enter marks of 5 students-1\n",
            "enter marks of 6 students89\n",
            "enter marks of 7 students-1\n",
            "enter marks of 8 students88\n",
            "enter marks of 9 students25\n",
            "1.Display the marks \n",
            "2.Find the Sum and Average of the marks \n",
            "3.Find the maximum marks \n",
            "4.Find the minimum marks \n",
            "5.Find the highest frequency of reapeated marks \n",
            "6.Find the number of absent students \n",
            "7.Exit\n",
            "Enter a choice for operation:1\n",
            "The List contains these marks: [55, 96, 55, -1, 55, -1, 89, -1, 88, 25]\n",
            "Enter a choice for operation:2\n",
            "sum of marks are:460\n",
            "avg of marks are:46.0\n",
            "Enter a choice for operation:3\n",
            "maximum marks are: 96\n",
            "Enter a choice for operation:4\n",
            "minimum marks are:55\n",
            "Enter a choice for operation:6\n",
            "Absent students count is: 3\n",
            "Enter a choice for operation:5\n",
            "frequent marks : 55\n",
            "Enter a choice for operation:7\n"
          ]
        }
      ]
    }
  ]
}